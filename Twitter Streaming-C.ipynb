{
 "cells": [
  {
   "cell_type": "code",
   "execution_count": 1,
   "metadata": {
    "collapsed": true
   },
   "outputs": [],
   "source": [
    "from pyspark import SparkConf,SparkContext\n",
    "from pyspark.streaming import StreamingContext\n",
    "from pyspark.sql import Row,SQLContext\n",
    "from pyspark.sql import HiveContext\n",
    "\n",
    "import sys\n",
    "import requests"
   ]
  },
  {
   "cell_type": "code",
   "execution_count": 2,
   "metadata": {
    "collapsed": false
   },
   "outputs": [],
   "source": [
    "sc.setLogLevel(\"ERROR\")"
   ]
  },
  {
   "cell_type": "code",
   "execution_count": 3,
   "metadata": {
    "collapsed": false
   },
   "outputs": [],
   "source": [
    "hive_context = HiveContext(sc)\n",
    "ssc = StreamingContext(sc, 2)\n",
    "ssc.checkpoint(\"checkpoint_TwitterApp\")\n",
    "dataStream = ssc.socketTextStream(\"localhost\",9009)"
   ]
  },
  {
   "cell_type": "code",
   "execution_count": 4,
   "metadata": {
    "collapsed": false
   },
   "outputs": [],
   "source": [
    "country_lines = sc.textFile('file:///home/cloudera/Downloads/country-list.csv')"
   ]
  },
  {
   "cell_type": "code",
   "execution_count": 5,
   "metadata": {
    "collapsed": true
   },
   "outputs": [],
   "source": [
    "country_words = country_lines.map(lambda line: line.split(\",\"))\n",
    "list = country_words.collect()\n",
    "country_tuples = country_words.map(lambda word:(word))\n",
    "countryDF = sqlContext.createDataFrame(country_tuples, [\"country\", \"code\"])"
   ]
  },
  {
   "cell_type": "code",
   "execution_count": 4,
   "metadata": {
    "collapsed": true
   },
   "outputs": [
    {
     "ename": "AttributeError",
     "evalue": "type object 'list' has no attribute 'take'",
     "output_type": "error",
     "traceback": [
      "\u001b[1;31m---------------------------------------------------------------------------\u001b[0m",
      "\u001b[1;31mAttributeError\u001b[0m                            Traceback (most recent call last)",
      "\u001b[1;32m<ipython-input-4-a4f6a8273946>\u001b[0m in \u001b[0;36m<module>\u001b[1;34m()\u001b[0m\n\u001b[1;32m----> 1\u001b[1;33m \u001b[0mlist\u001b[0m\u001b[1;33m.\u001b[0m\u001b[0mtake\u001b[0m\u001b[1;33m(\u001b[0m\u001b[1;36m5\u001b[0m\u001b[1;33m)\u001b[0m\u001b[1;33m\u001b[0m\u001b[0m\n\u001b[0m",
      "\u001b[1;31mAttributeError\u001b[0m: type object 'list' has no attribute 'take'"
     ]
    }
   ],
   "source": []
  },
  {
   "cell_type": "code",
   "execution_count": 6,
   "metadata": {
    "collapsed": true
   },
   "outputs": [],
   "source": [
    "def aggregate_tags_count(new_values, total_sum):\n",
    "    return sum(new_values) + (total_sum or 0)"
   ]
  },
  {
   "cell_type": "code",
   "execution_count": 7,
   "metadata": {
    "collapsed": false
   },
   "outputs": [],
   "source": [
    "def send_df_to_dashboard(df):\n",
    "    # extract the hashtags from dataframe and convert them into array\n",
    "    top_tags = [str(t.hashtag) for t in df.select(\"hashtag\").collect()]\n",
    "    # extract the counts from dataframe and convert them into array\n",
    "    tags_count = [p.hashtag_count for p in df.select(\"hashtag_count\").collect()]\n",
    "    # initialize and send the data through REST API\n",
    "    url = 'http://localhost:5001/updateData'\n",
    "    request_data = {'label': str(top_tags), 'data': str(tags_count)}\n",
    "    response = requests.post(url, data=request_data)"
   ]
  },
  {
   "cell_type": "code",
   "execution_count": 8,
   "metadata": {
    "collapsed": false
   },
   "outputs": [],
   "source": [
    "def get_sql_context_instance(spark_context):\n",
    "    if ('sqlContextSingletonInstance' not in globals()):\n",
    "        globals()['sqlContextSingletonInstance'] = SQLContext(spark_context)\n",
    "    return globals()['sqlContextSingletonInstance']\n",
    "\n",
    "from pyspark.sql.functions import col \n",
    "\n",
    "def process_rdd(time, rdd):\n",
    "    print(\"----------- %s -----------\" % str(time))\n",
    "    try:\n",
    "        #type(rdd)\n",
    "        # Get spark sql singleton context from the current context\n",
    "        sql_context = get_sql_context_instance(rdd.context)\n",
    "        # convert the RDD to Row RDD\n",
    "        row_rdd = rdd.map(lambda w: Row(hashtag=w[0], hashtag_count=w[1]))\n",
    "        # create a DF from the Row RDD\n",
    "        hashtags_df = sql_context.createDataFrame(row_rdd)\n",
    "        #hashtags_df = sqlContext.createDataFrame(row_rdd, [\"hashtag\", \"hashtag_count\"])\n",
    "        joinedDF = countryDF.alias('c').join(hashtags_df.alias('t'),col('c.country') == col('t.hashtag')).select(col('c.code'), col('c.country'), col('t.hashtag_count'))\n",
    "        #Register the dataframe as table\n",
    "        joinedDF.registerTempTable(\"hashtags\")\n",
    "        #hashtags_df.registerTempTable(\"hashtags\")\n",
    "        # get the top 10 hashtags from the table using SQL and print them\n",
    "        hashtag_counts_df = sql_context.sql(\"select hashtag, hashtag_count from hashtags order by hashtag_count desc limit 10\")\n",
    "        hashtag_counts_df.show()\n",
    "        # call this method to prepare top 10 hashtags DF and send them\n",
    "        send_df_to_dashboard(hashtag_counts_df)\n",
    "    except:\n",
    "        e = sys.exc_info()[0]\n",
    "        print(\"Error: %s\" % e)"
   ]
  },
  {
   "cell_type": "code",
   "execution_count": 9,
   "metadata": {
    "collapsed": false
   },
   "outputs": [],
   "source": [
    "# split each tweet into words\n",
    "words = dataStream.flatMap(lambda line: line.split(\" \"))\n",
    "# filter the words to get only hashtags, then map each hashtag to be a pair of (hashtag,1)\n",
    "#x = words.filter(lambda x: x in list)\n",
    "#hashtags = words.filter(lambda w: \"#\" in w).map(lambda x: (x, 1))\n",
    "hashtags = words.map(lambda x: (x, 1))\n",
    "# adding the count of each hashtag to its last count\n",
    "tags_totals = hashtags.updateStateByKey(aggregate_tags_count)\n",
    "# do processing for each RDD generated in each interval\n",
    "tags_totals.foreachRDD(process_rdd)\n",
    "#type(words)\n",
    "#type(x)"
   ]
  },
  {
   "cell_type": "code",
   "execution_count": null,
   "metadata": {
    "collapsed": false
   },
   "outputs": [
    {
     "name": "stdout",
     "output_type": "stream",
     "text": [
      "----------- 2018-05-22 09:22:34 -----------\n",
      "Error: <class 'ValueError'>\n",
      "----------- 2018-05-22 09:22:36 -----------\n",
      "Error: <class 'ValueError'>\n",
      "----------- 2018-05-22 09:22:38 -----------\n",
      "Error: <class 'ValueError'>\n",
      "----------- 2018-05-22 09:22:40 -----------\n",
      "Error: <class 'ValueError'>\n",
      "----------- 2018-05-22 09:22:42 -----------\n",
      "Error: <class 'ValueError'>\n",
      "----------- 2018-05-22 09:22:44 -----------\n",
      "+----------+-------------+\n",
      "|   hashtag|hashtag_count|\n",
      "+----------+-------------+\n",
      "| #judibola|            1|\n",
      "|  #nigeria|            1|\n",
      "|#agenbola…|            1|\n",
      "|    #worl…|            1|\n",
      "|   #brazil|            1|\n",
      "|#argentina|            1|\n",
      "+----------+-------------+\n",
      "\n",
      "----------- 2018-05-22 09:22:46 -----------\n",
      "+--------------+-------------+\n",
      "|       hashtag|hashtag_count|\n",
      "+--------------+-------------+\n",
      "|     #judibola|            1|\n",
      "|    #Immobile,|            1|\n",
      "|    #agenbola…|            1|\n",
      "|      #nigeria|            1|\n",
      "|      #Icardi,|            1|\n",
      "|         #Nike|            1|\n",
      "|       #brazil|            1|\n",
      "|    #argentina|            1|\n",
      "|#ChampionsxFOX|            1|\n",
      "|        #worl…|            1|\n",
      "+--------------+-------------+\n",
      "\n",
      "----------- 2018-05-22 09:22:48 -----------\n",
      "+------------------+-------------+\n",
      "|           hashtag|hashtag_count|\n",
      "+------------------+-------------+\n",
      "|#VóleyEnTycsSports|            1|\n",
      "|               S#…|            1|\n",
      "|        #Immobile,|            1|\n",
      "|         #judibola|            1|\n",
      "|        #agenbola…|            1|\n",
      "|          #nigeria|            1|\n",
      "|             #vmdk|            1|\n",
      "|          #Icardi,|            1|\n",
      "|             #Nike|            1|\n",
      "|           #brazil|            1|\n",
      "+------------------+-------------+\n",
      "\n",
      "----------- 2018-05-22 09:22:50 -----------\n",
      "+------------------+-------------+\n",
      "|           hashtag|hashtag_count|\n",
      "+------------------+-------------+\n",
      "|#VóleyEnTycsSports|            1|\n",
      "|               S#…|            1|\n",
      "|        #Immobile,|            1|\n",
      "|         #judibola|            1|\n",
      "|        #agenbola…|            1|\n",
      "|          #nigeria|            1|\n",
      "|             #vmdk|            1|\n",
      "|          #Icardi,|            1|\n",
      "|             #Nike|            1|\n",
      "|           #brazil|            1|\n",
      "+------------------+-------------+\n",
      "\n",
      "----------- 2018-05-22 09:22:52 -----------\n",
      "+------------------+-------------+\n",
      "|           hashtag|hashtag_count|\n",
      "+------------------+-------------+\n",
      "|#VóleyEnTycsSports|            1|\n",
      "|               S#…|            1|\n",
      "|        #Immobile,|            1|\n",
      "|          #Karius?|            1|\n",
      "|        #UCLfinal!|            1|\n",
      "|         #judibola|            1|\n",
      "|        #agenbola…|            1|\n",
      "|            #Navas|            1|\n",
      "|          #nigeria|            1|\n",
      "|             #vmdk|            1|\n",
      "+------------------+-------------+\n",
      "\n",
      "----------- 2018-05-22 09:22:54 -----------\n",
      "+------------------+-------------+\n",
      "|           hashtag|hashtag_count|\n",
      "+------------------+-------------+\n",
      "|#VóleyEnTycsSports|            1|\n",
      "|         #judibola|            1|\n",
      "|               S#…|            1|\n",
      "|        #Immobile,|            1|\n",
      "|        #UCLfinal!|            1|\n",
      "|          #Karius?|            1|\n",
      "|       #RealMadrid|            1|\n",
      "|        #agenbola…|            1|\n",
      "|            #Navas|            1|\n",
      "|          #nigeria|            1|\n",
      "+------------------+-------------+\n",
      "\n",
      "----------- 2018-05-22 09:22:56 -----------\n",
      "+------------------+-------------+\n",
      "|           hashtag|hashtag_count|\n",
      "+------------------+-------------+\n",
      "|             #vmdk|            1|\n",
      "|        #Immobile,|            1|\n",
      "|        #UCLfinal!|            1|\n",
      "|       #RealMadrid|            1|\n",
      "|            #Navas|            1|\n",
      "|          #nigeria|            1|\n",
      "|             #CSGO|            1|\n",
      "|#VóleyEnTycsSports|            1|\n",
      "|               S#…|            1|\n",
      "|          #Karius?|            1|\n",
      "+------------------+-------------+\n",
      "\n",
      "----------- 2018-05-22 09:22:58 -----------\n",
      "+------------------+-------------+\n",
      "|           hashtag|hashtag_count|\n",
      "+------------------+-------------+\n",
      "|             #Nike|            2|\n",
      "|               S#…|            1|\n",
      "|        #Immobile,|            1|\n",
      "|          #Karius?|            1|\n",
      "|       #RealMadrid|            1|\n",
      "|           #Publix|            1|\n",
      "|            #Navas|            1|\n",
      "|          #nigeria|            1|\n",
      "|             #CSGO|            1|\n",
      "|#VóleyEnTycsSports|            1|\n",
      "+------------------+-------------+\n",
      "\n",
      "----------- 2018-05-22 09:23:00 -----------\n",
      "+------------------+-------------+\n",
      "|           hashtag|hashtag_count|\n",
      "+------------------+-------------+\n",
      "|             #Nike|            2|\n",
      "|               S#…|            1|\n",
      "|        #Immobile,|            1|\n",
      "|          #Karius?|            1|\n",
      "|       #RealMadrid|            1|\n",
      "|           #Publix|            1|\n",
      "|            #Navas|            1|\n",
      "|          #nigeria|            1|\n",
      "|             #CSGO|            1|\n",
      "|#VóleyEnTycsSports|            1|\n",
      "+------------------+-------------+\n",
      "\n",
      "----------- 2018-05-22 09:23:02 -----------\n",
      "+------------------+-------------+\n",
      "|           hashtag|hashtag_count|\n",
      "+------------------+-------------+\n",
      "|             #Nike|            2|\n",
      "|#VóleyEnTycsSports|            1|\n",
      "|        #Immobile,|            1|\n",
      "|          #Karius?|            1|\n",
      "|       #RealMadrid|            1|\n",
      "|           #Publix|            1|\n",
      "|            #Navas|            1|\n",
      "|          #nigeria|            1|\n",
      "|             #CSGO|            1|\n",
      "|        #agenbola…|            1|\n",
      "+------------------+-------------+\n",
      "\n",
      "----------- 2018-05-22 09:23:04 -----------\n",
      "+-------------+-------------+\n",
      "|      hashtag|hashtag_count|\n",
      "+-------------+-------------+\n",
      "|        #Nike|            2|\n",
      "|#WorldCup2018|            2|\n",
      "|   #Immobile,|            1|\n",
      "|  #RealMadrid|            1|\n",
      "|     #Karius?|            1|\n",
      "|        #CSGO|            1|\n",
      "|     #nigeria|            1|\n",
      "|       #Navas|            1|\n",
      "|#Construction|            1|\n",
      "|      #Publix|            1|\n",
      "+-------------+-------------+\n",
      "\n",
      "----------- 2018-05-22 09:23:06 -----------\n",
      "+-------------+-------------+\n",
      "|      hashtag|hashtag_count|\n",
      "+-------------+-------------+\n",
      "|        #Nike|            2|\n",
      "|#WorldCup2018|            2|\n",
      "|   #Immobile,|            1|\n",
      "|  #RealMadrid|            1|\n",
      "|   #UCLfinal!|            1|\n",
      "|        #CSGO|            1|\n",
      "|     #nigeria|            1|\n",
      "|       #Navas|            1|\n",
      "|#Construction|            1|\n",
      "|      #Publix|            1|\n",
      "+-------------+-------------+\n",
      "\n",
      "----------- 2018-05-22 09:23:08 -----------\n",
      "+-------------+-------------+\n",
      "|      hashtag|hashtag_count|\n",
      "+-------------+-------------+\n",
      "|        #Nike|            2|\n",
      "|#WorldCup2018|            2|\n",
      "|   #agenbola…|            1|\n",
      "|         #ANC|            1|\n",
      "|   #UCLfinal!|            1|\n",
      "|#Construction|            1|\n",
      "|  #RealMadrid|            1|\n",
      "|     #nigeria|            1|\n",
      "|       #Navas|            1|\n",
      "|        #CSGO|            1|\n",
      "+-------------+-------------+\n",
      "\n",
      "----------- 2018-05-22 09:23:10 -----------\n",
      "+-------------+-------------+\n",
      "|      hashtag|hashtag_count|\n",
      "+-------------+-------------+\n",
      "|          #DA|            2|\n",
      "|#WorldCup2018|            2|\n",
      "|  #SkeemSaam…|            2|\n",
      "|         #EFF|            2|\n",
      "|      #Malema|            2|\n",
      "|         #ANC|            2|\n",
      "|   #Thumamina|            2|\n",
      "|       #Uzalo|            2|\n",
      "|        #Nike|            2|\n",
      "|   #agenbola…|            1|\n",
      "+-------------+-------------+\n",
      "\n",
      "----------- 2018-05-22 09:23:12 -----------\n",
      "+-------------+-------------+\n",
      "|      hashtag|hashtag_count|\n",
      "+-------------+-------------+\n",
      "|#WorldCup2018|            2|\n",
      "|        #Nike|            2|\n",
      "|  #SkeemSaam…|            2|\n",
      "|          #DA|            2|\n",
      "|      #Malema|            2|\n",
      "|         #ANC|            2|\n",
      "|   #Thumamina|            2|\n",
      "|       #Uzalo|            2|\n",
      "|         #EFF|            2|\n",
      "|   #agenbola…|            1|\n",
      "+-------------+-------------+\n",
      "\n",
      "----------- 2018-05-22 09:23:14 -----------\n",
      "+-------------+-------------+\n",
      "|      hashtag|hashtag_count|\n",
      "+-------------+-------------+\n",
      "|#WorldCup2018|            2|\n",
      "|          #DA|            2|\n",
      "|  #SkeemSaam…|            2|\n",
      "|        #Nike|            2|\n",
      "|      #Malema|            2|\n",
      "|         #ANC|            2|\n",
      "|   #Thumamina|            2|\n",
      "|       #Uzalo|            2|\n",
      "|         #EFF|            2|\n",
      "|   #agenbola…|            1|\n",
      "+-------------+-------------+\n",
      "\n",
      "----------- 2018-05-22 09:23:16 -----------\n",
      "+-------------+-------------+\n",
      "|      hashtag|hashtag_count|\n",
      "+-------------+-------------+\n",
      "|#WorldCup2018|            2|\n",
      "|          #DA|            2|\n",
      "|       #Uzalo|            2|\n",
      "|        #Nike|            2|\n",
      "|      #Malema|            2|\n",
      "|         #ANC|            2|\n",
      "|  #SkeemSaam…|            2|\n",
      "|   #Thumamina|            2|\n",
      "|         #EFF|            2|\n",
      "|   #agenbola…|            1|\n",
      "+-------------+-------------+\n",
      "\n",
      "----------- 2018-05-22 09:23:18 -----------\n",
      "+-------------+-------------+\n",
      "|      hashtag|hashtag_count|\n",
      "+-------------+-------------+\n",
      "|#WorldCup2018|            2|\n",
      "|          #DA|            2|\n",
      "|       #Uzalo|            2|\n",
      "|        #Nike|            2|\n",
      "|      #Malema|            2|\n",
      "|         #ANC|            2|\n",
      "|  #SkeemSaam…|            2|\n",
      "|   #Thumamina|            2|\n",
      "|         #EFF|            2|\n",
      "|   #agenbola…|            1|\n",
      "+-------------+-------------+\n",
      "\n",
      "----------- 2018-05-22 09:23:20 -----------\n"
     ]
    }
   ],
   "source": [
    "# start the streaming computation\n",
    "ssc.start()\n",
    "# wait for the streaming to finish\n",
    "ssc.awaitTermination()"
   ]
  },
  {
   "cell_type": "code",
   "execution_count": 16,
   "metadata": {
    "collapsed": false
   },
   "outputs": [],
   "source": [
    "ssc.stop()"
   ]
  },
  {
   "cell_type": "code",
   "execution_count": null,
   "metadata": {
    "collapsed": false
   },
   "outputs": [],
   "source": [
    "\n"
   ]
  },
  {
   "cell_type": "code",
   "execution_count": 22,
   "metadata": {
    "collapsed": true
   },
   "outputs": [
    {
     "ename": "AttributeError",
     "evalue": "'list' object has no attribute 'show'",
     "output_type": "error",
     "traceback": [
      "\u001b[1;31m---------------------------------------------------------------------------\u001b[0m",
      "\u001b[1;31mAttributeError\u001b[0m                            Traceback (most recent call last)",
      "\u001b[1;32m<ipython-input-22-31bbae31935f>\u001b[0m in \u001b[0;36m<module>\u001b[1;34m()\u001b[0m\n\u001b[1;32m----> 1\u001b[1;33m \u001b[0mTokens\u001b[0m\u001b[1;33m.\u001b[0m\u001b[0mshow\u001b[0m\u001b[1;33m(\u001b[0m\u001b[1;36m6\u001b[0m\u001b[1;33m)\u001b[0m\u001b[1;33m\u001b[0m\u001b[0m\n\u001b[0m",
      "\u001b[1;31mAttributeError\u001b[0m: 'list' object has no attribute 'show'"
     ]
    }
   ],
   "source": [
    "Tokens.show()"
   ]
  },
  {
   "cell_type": "code",
   "execution_count": 20,
   "metadata": {
    "collapsed": false
   },
   "outputs": [
    {
     "data": {
      "text/plain": [
       "list"
      ]
     },
     "execution_count": 20,
     "metadata": {},
     "output_type": "execute_result"
    }
   ],
   "source": [
    "type(Tokens)"
   ]
  },
  {
   "cell_type": "code",
   "execution_count": null,
   "metadata": {
    "collapsed": true
   },
   "outputs": [],
   "source": []
  }
 ],
 "metadata": {
  "kernelspec": {
   "display_name": "Python 3",
   "language": "python",
   "name": "python3"
  },
  "language_info": {
   "codemirror_mode": {
    "name": "ipython",
    "version": 3
   },
   "file_extension": ".py",
   "mimetype": "text/x-python",
   "name": "python",
   "nbconvert_exporter": "python",
   "pygments_lexer": "ipython3",
   "version": "3.5.1"
  }
 },
 "nbformat": 4,
 "nbformat_minor": 0
}
